{
 "cells": [
  {
   "cell_type": "code",
   "execution_count": 2,
   "id": "674045b6-3f0d-4535-ab55-67b78374d198",
   "metadata": {},
   "outputs": [
    {
     "name": "stdin",
     "output_type": "stream",
     "text": [
      "Please enter username:  himanshi\n",
      "Please enter your password:  iamgreat\n"
     ]
    },
    {
     "name": "stdout",
     "output_type": "stream",
     "text": [
      "Username not found. Would you like to register? (yes/no)\n"
     ]
    },
    {
     "name": "stdin",
     "output_type": "stream",
     "text": [
      " yes\n"
     ]
    },
    {
     "name": "stdout",
     "output_type": "stream",
     "text": [
      "User himanshi registered successfully\n"
     ]
    }
   ],
   "source": [
    "#Import all the necessary libraries\n",
    "\n",
    "import os\n",
    "import hashlib\n",
    "import pandas as pd\n",
    "import numpy as np\n",
    "import csv\n",
    "\n",
    "#This will create a new CSV to store the username and password\n",
    "\n",
    "file = open('customer.csv', 'w')\n",
    "writer = csv.writer(file)\n",
    "header = ['username', 'password']\n",
    "writer.writerow(header)\n",
    "\n",
    "file.close()\n",
    "\n",
    "#This will create a new CSV to store the task and the status of the task\n",
    "\n",
    "file1 = open(\"taskmanager.csv\",'w', newline='')\n",
    "writer = csv.writer(file1)\n",
    "header=['username','task','status']\n",
    "writer.writerow(header)\n",
    "\n",
    "file.close()\n",
    "\n",
    "# Using hashlib library we will hash the password at rest\n",
    "\n",
    "def hash_password(password):\n",
    "    return hashlib.sha256(password.encode()).hexdigest()\n",
    "\n",
    "#Below is the code to check if username exists in the dataframe or not\n",
    "\n",
    "def check_username(username, filename='customer.csv'):\n",
    "    try:\n",
    "        df = pd.read_csv(filename)\n",
    "        return username in df[\"username\"].values\n",
    "    except FileNotFoundError as e:\n",
    "        print(f\"File not found :{e}\")\n",
    "        return False\n",
    "    except Exception as e:\n",
    "        print(f\" Error checking username: {e}\")\n",
    "        return False\n",
    "\n",
    "#The code below will register a new username password as row after checking for existing username. \n",
    "#The row then will be stored in the customer database\n",
    "        \n",
    "def register_username(username, password, filename='customer.csv'):\n",
    "    if check_username(username, filename):\n",
    "        print(f\"Username: {username}\")\n",
    "        return\n",
    "    hashed_password = hash_password(password)\n",
    "    if os.path.exists(filename):\n",
    "        try:\n",
    "            df = pd.read_csv(filename)\n",
    "            new_row = {\"username\" : username, \"password\" : hashed_password} #creates key value pair of id password\n",
    "            df = pd.concat([df, pd.DataFrame([new_row])], ignore_index = True)\n",
    "            df.to_csv(filename, index=False, header=True)\n",
    "            print(f\"User {username} registered successfully\")\n",
    "        except Exception as e:\n",
    "            print(f\"Error registering the user {username}\")\n",
    "    else:\n",
    "        try:\n",
    "            df = pd.DataFrame({\"username: \" [username], \"password: \" [hashed_password]})\n",
    "            df.to_csv(filename, index=False)\n",
    "            print(f\"Username {username} registered successfully\")\n",
    "        except Expection as e:\n",
    "            print(f\"Error creating file and registering the user: {e}\")\n",
    "\n",
    "# This is ask the user to enter login and password and invokes task_manager(username) function\n",
    "\n",
    "def user_login():\n",
    "    username = input(\"Please enter username: \")\n",
    "    password = input(\"Please enter your password: \")\n",
    "\n",
    "    if check_username(username):\n",
    "        try:\n",
    "            df = pd.read_csv('customer.csv')\n",
    "            user_row = df[df[\"username\"] == username].iloc[0]\n",
    "            stored_hashed_password = user_row[\"password\"]\n",
    "            if hash_password(password) == stored_hashed_password:\n",
    "                print(\"Login Successful!\")\n",
    "                print(f\"User '{username}' logged in.\")  # Print login confirmation\n",
    "                task_manager(username)  # Call task_manager after login\n",
    "                print(f\"User '{username}' returned from task manager.\") # print after the task manager finishes.\n",
    "            else:\n",
    "                print(\"Incorrect Password. Please try again.\")\n",
    "        except Exception as e:\n",
    "            print(f\"Login failed: {e}.\")\n",
    "\n",
    "    else:\n",
    "        print(\"Username not found. Would you like to register? (yes/no)\")\n",
    "        choice = input().lower()\n",
    "        if choice == \"yes\":\n",
    "            register_username(username, password)\n",
    "user_login()\n",
    "#Task Manager function for users to choose the action \n",
    "\n",
    "def task_manager(username):\n",
    "    while True:\n",
    "        print(\"\\nTask Manager Options: \")\n",
    "        print(\"1. Add Task\")\n",
    "        print(\"2. View Tasks\")\n",
    "        print(\"3. Update Task Status\")\n",
    "        print(\"4. Delete Task\")\n",
    "        print(\"5: Logout\")\n",
    "\n",
    "        choice = input(\"Enter your choice: \")\n",
    "\n",
    "        if choice == \"1\":\n",
    "            add_task(username)\n",
    "        elif choice == \"2\":\n",
    "            view_tasks(username)\n",
    "        elif choice == \"3\":\n",
    "            update_task_status(username)\n",
    "        elif choice == \"4\":\n",
    "            delete_task(username)\n",
    "        elif choice == \"5\":\n",
    "            print(\"Session is logged out\")\n",
    "            break\n",
    "        else:\n",
    "            print(\"Invalid choice.\") \n",
    "\n",
    "#Function for the user to add task\n",
    "\n",
    "def add_task(username):\n",
    "    task = input(\"Please add your task: \")\n",
    "    try:\n",
    "        df = pd.read_csv('taskmanger.csv')\n",
    "    except FileNotFoundError:\n",
    "        df= pd.DataFrame(columns=['username', 'task', 'status'])\n",
    "\n",
    "        existing_task = df[(df['username'] == username) & (df['task'] == task)]\n",
    "        if not existing_task.empty:\n",
    "            print(\"Task already exist for this user.\")\n",
    "            return\n",
    "             \n",
    "        with open('taskmanager.csv', 'a', newline='') as file:\n",
    "            writer = csv.writer(file)\n",
    "            writer.writerow([username, task, \"Pending\"])\n",
    "        print(f\"Task: {task} added successfully.\")    \n",
    "\n",
    "\n",
    " #Function for user to view task\n",
    "\n",
    "def view_tasks(username):\n",
    "    try:\n",
    "        df = pd.read_csv('taskmanager.csv')\n",
    "        user_tasks = df[df['username']==username]\n",
    "        if not user_tasks.empty:\n",
    "            print(user_tasks)\n",
    "        else:\n",
    "            print(\"No task found.\")\n",
    "    except FileNotFoundError:\n",
    "        print(f\"Sorry no task found\")\n",
    "\n",
    "#Function for the user to update the task status\n",
    "\n",
    "def update_task_status(username):\n",
    "    try:\n",
    "        df = pd.read_csv('taskmanager.csv')\n",
    "        user_tasks=df[df['username'] == username]\n",
    "        if user_tasks.empty:\n",
    "            print(\"No tasks found.\")\n",
    "            return\n",
    "        print(user_tasks[['task', 'status']])   \n",
    "\n",
    "        task_description = input(\"Please enter your task description: \")\n",
    "        match_task = user_tasks[user_tasks['task']== task_description]\n",
    "\n",
    "        if match_task.empty:\n",
    "            print(\"No Task Found.\")\n",
    "            return\n",
    "\n",
    "        while True:\n",
    "            new_status = input(\"Enter the status of task (Complete, Pending or In Progress)\")\n",
    "            if new_status in [\"Complete\", \"Pending\", \"In Progress\"]:\n",
    "                break\n",
    "            else:\n",
    "                print(\"Invalid status input. Please enter Complete, Pending, or In Progress.\")\n",
    "        task_id = match_task.index[0]\n",
    "        df.loc[task_id, 'status'] = new_status\n",
    "        df.to_csv('taskmanager.csv', index=False)\n",
    "        print(\"Task status updated.\")\n",
    "\n",
    "    except FileNotFoundError:\n",
    "        print(\"No Task Found\")\n",
    "\n",
    "#Deletes existing the task\n",
    "\n",
    "def delete_task(username):\n",
    "    \"\"\"Deletes a task.\"\"\"\n",
    "    try:\n",
    "        df = pd.read_csv('taskmanager.csv')\n",
    "        user_tasks = df[df['username'] == username]\n",
    "        if user_tasks.empty:\n",
    "            print(\"No tasks found.\")\n",
    "            return\n",
    "\n",
    "        print(user_tasks)\n",
    "        task_index = int(input(\"Enter the index of the task to delete (starting from 0): \"))\n",
    "        if 0 <= task_index < len(user_tasks):\n",
    "            task_id = user_tasks.index[task_index]\n",
    "            df = df.drop(task_id)\n",
    "            df.to_csv('taskmanager.csv', index=False)\n",
    "            print(\"Task deleted.\")\n",
    "        else:\n",
    "            print(\"Invalid task index.\")\n",
    "    except FileNotFoundError:\n",
    "        print(\"No tasks found.\")\n"
   ]
  },
  {
   "cell_type": "code",
   "execution_count": 3,
   "id": "f6853670-bea7-440c-bf4b-db669dc2ea86",
   "metadata": {},
   "outputs": [
    {
     "name": "stdin",
     "output_type": "stream",
     "text": [
      "Please enter username:  reema\n",
      "Please enter your password:  iamgreat\n"
     ]
    },
    {
     "name": "stdout",
     "output_type": "stream",
     "text": [
      "Username not found. Would you like to register? (yes/no)\n"
     ]
    },
    {
     "name": "stdin",
     "output_type": "stream",
     "text": [
      " yes\n"
     ]
    },
    {
     "name": "stdout",
     "output_type": "stream",
     "text": [
      "User reema registered successfully\n"
     ]
    }
   ],
   "source": [
    "user_login()"
   ]
  },
  {
   "cell_type": "code",
   "execution_count": 4,
   "id": "bf4ed6c8-0d66-4ece-9e01-66c84a92f06f",
   "metadata": {},
   "outputs": [
    {
     "name": "stdin",
     "output_type": "stream",
     "text": [
      "Please enter username:  himanshi\n",
      "Please enter your password:  iamgreat\n"
     ]
    },
    {
     "name": "stdout",
     "output_type": "stream",
     "text": [
      "Login Successful!\n",
      "User 'himanshi' logged in.\n",
      "\n",
      "Task Manager Options: \n",
      "1. Add Task\n",
      "2. View Tasks\n",
      "3. Update Task Status\n",
      "4. Delete Task\n",
      "5: Logout\n"
     ]
    },
    {
     "name": "stdin",
     "output_type": "stream",
     "text": [
      "Enter your choice:  coding project\n"
     ]
    },
    {
     "name": "stdout",
     "output_type": "stream",
     "text": [
      "Invalid choice.\n",
      "\n",
      "Task Manager Options: \n",
      "1. Add Task\n",
      "2. View Tasks\n",
      "3. Update Task Status\n",
      "4. Delete Task\n",
      "5: Logout\n"
     ]
    },
    {
     "name": "stdin",
     "output_type": "stream",
     "text": [
      "Enter your choice:  1\n",
      "Please add your task:  coding project\n"
     ]
    },
    {
     "name": "stdout",
     "output_type": "stream",
     "text": [
      "Task: coding project added successfully.\n",
      "\n",
      "Task Manager Options: \n",
      "1. Add Task\n",
      "2. View Tasks\n",
      "3. Update Task Status\n",
      "4. Delete Task\n",
      "5: Logout\n"
     ]
    },
    {
     "name": "stdin",
     "output_type": "stream",
     "text": [
      "Enter your choice:  5\n"
     ]
    },
    {
     "name": "stdout",
     "output_type": "stream",
     "text": [
      "Session is logged out\n",
      "User 'himanshi' returned from task manager.\n"
     ]
    }
   ],
   "source": [
    "user_login()"
   ]
  },
  {
   "cell_type": "code",
   "execution_count": 5,
   "id": "90a34b03-487d-4f51-a400-9e8521fd3399",
   "metadata": {},
   "outputs": [
    {
     "name": "stdin",
     "output_type": "stream",
     "text": [
      "Please enter username:  reema\n",
      "Please enter your password:  iamgreat\n"
     ]
    },
    {
     "name": "stdout",
     "output_type": "stream",
     "text": [
      "Login Successful!\n",
      "User 'reema' logged in.\n",
      "\n",
      "Task Manager Options: \n",
      "1. Add Task\n",
      "2. View Tasks\n",
      "3. Update Task Status\n",
      "4. Delete Task\n",
      "5: Logout\n"
     ]
    },
    {
     "name": "stdin",
     "output_type": "stream",
     "text": [
      "Enter your choice:  1\n",
      "Please add your task:  maths homework\n"
     ]
    },
    {
     "name": "stdout",
     "output_type": "stream",
     "text": [
      "Task: maths homework added successfully.\n",
      "\n",
      "Task Manager Options: \n",
      "1. Add Task\n",
      "2. View Tasks\n",
      "3. Update Task Status\n",
      "4. Delete Task\n",
      "5: Logout\n"
     ]
    },
    {
     "name": "stdin",
     "output_type": "stream",
     "text": [
      "Enter your choice:  5\n"
     ]
    },
    {
     "name": "stdout",
     "output_type": "stream",
     "text": [
      "Session is logged out\n",
      "User 'reema' returned from task manager.\n"
     ]
    }
   ],
   "source": [
    "user_login()"
   ]
  },
  {
   "cell_type": "code",
   "execution_count": null,
   "id": "8b5ac58d-e627-4f57-b6f8-9e4fb6cd34b6",
   "metadata": {},
   "outputs": [],
   "source": []
  }
 ],
 "metadata": {
  "kernelspec": {
   "display_name": "Python 3 (ipykernel)",
   "language": "python",
   "name": "python3"
  },
  "language_info": {
   "codemirror_mode": {
    "name": "ipython",
    "version": 3
   },
   "file_extension": ".py",
   "mimetype": "text/x-python",
   "name": "python",
   "nbconvert_exporter": "python",
   "pygments_lexer": "ipython3",
   "version": "3.12.7"
  }
 },
 "nbformat": 4,
 "nbformat_minor": 5
}
